{
 "cells": [
  {
   "cell_type": "markdown",
   "id": "44684042",
   "metadata": {},
   "source": [
    "### Get an E-Commerce Dataset from Hugging Face"
   ]
  },
  {
   "cell_type": "code",
   "execution_count": 1,
   "id": "cb7c3642",
   "metadata": {},
   "outputs": [],
   "source": [
    "import pandas as pd\n",
    "\n",
    "df = pd.read_parquet(\"hf://datasets/NebulaByte/E-Commerce_Customer_Support_Conversations/data/train-00000-of-00001-a5a7c6e4bb30b016.parquet\")"
   ]
  },
  {
   "cell_type": "code",
   "execution_count": 2,
   "id": "65ddef77",
   "metadata": {},
   "outputs": [
    {
     "data": {
      "text/html": [
       "<div>\n",
       "<style scoped>\n",
       "    .dataframe tbody tr th:only-of-type {\n",
       "        vertical-align: middle;\n",
       "    }\n",
       "\n",
       "    .dataframe tbody tr th {\n",
       "        vertical-align: top;\n",
       "    }\n",
       "\n",
       "    .dataframe thead th {\n",
       "        text-align: right;\n",
       "    }\n",
       "</style>\n",
       "<table border=\"1\" class=\"dataframe\">\n",
       "  <thead>\n",
       "    <tr style=\"text-align: right;\">\n",
       "      <th></th>\n",
       "      <th>issue_area</th>\n",
       "      <th>issue_category</th>\n",
       "      <th>issue_sub_category</th>\n",
       "      <th>issue_category_sub_category</th>\n",
       "      <th>customer_sentiment</th>\n",
       "      <th>product_category</th>\n",
       "      <th>product_sub_category</th>\n",
       "      <th>issue_complexity</th>\n",
       "      <th>agent_experience_level</th>\n",
       "      <th>agent_experience_level_desc</th>\n",
       "      <th>conversation</th>\n",
       "    </tr>\n",
       "  </thead>\n",
       "  <tbody>\n",
       "    <tr>\n",
       "      <th>0</th>\n",
       "      <td>Login and Account</td>\n",
       "      <td>Mobile Number and Email Verification</td>\n",
       "      <td>Verification requirement for mobile number or ...</td>\n",
       "      <td>Mobile Number and Email Verification -&gt; Verifi...</td>\n",
       "      <td>neutral</td>\n",
       "      <td>Appliances</td>\n",
       "      <td>Oven Toaster Grills (OTG)</td>\n",
       "      <td>medium</td>\n",
       "      <td>junior</td>\n",
       "      <td>handles customer inquiries independently, poss...</td>\n",
       "      <td>Agent: Thank you for calling BrownBox Customer...</td>\n",
       "    </tr>\n",
       "    <tr>\n",
       "      <th>1</th>\n",
       "      <td>Cancellations and returns</td>\n",
       "      <td>Pickup and Shipping</td>\n",
       "      <td>Reasons for being asked to ship the item</td>\n",
       "      <td>Pickup and Shipping -&gt; Reasons for being asked...</td>\n",
       "      <td>neutral</td>\n",
       "      <td>Electronics</td>\n",
       "      <td>Computer Monitor</td>\n",
       "      <td>less</td>\n",
       "      <td>junior</td>\n",
       "      <td>handles customer inquiries independently, poss...</td>\n",
       "      <td>Agent: Thank you for calling BrownBox customer...</td>\n",
       "    </tr>\n",
       "    <tr>\n",
       "      <th>2</th>\n",
       "      <td>Cancellations and returns</td>\n",
       "      <td>Replacement and Return Process</td>\n",
       "      <td>Inability to click the 'Cancel' button</td>\n",
       "      <td>Replacement and Return Process -&gt; Inability to...</td>\n",
       "      <td>neutral</td>\n",
       "      <td>Appliances</td>\n",
       "      <td>Juicer/Mixer/Grinder</td>\n",
       "      <td>medium</td>\n",
       "      <td>experienced</td>\n",
       "      <td>confidently handles complex customer issues, e...</td>\n",
       "      <td>Agent: Thank you for calling BrownBox Customer...</td>\n",
       "    </tr>\n",
       "    <tr>\n",
       "      <th>3</th>\n",
       "      <td>Login and Account</td>\n",
       "      <td>Login Issues and Error Messages</td>\n",
       "      <td>Error message regarding exceeded attempts to e...</td>\n",
       "      <td>Login Issues and Error Messages -&gt; Error messa...</td>\n",
       "      <td>neutral</td>\n",
       "      <td>Appliances</td>\n",
       "      <td>Water Purifier</td>\n",
       "      <td>less</td>\n",
       "      <td>inexperienced</td>\n",
       "      <td>may struggle with ambiguous queries, rely on c...</td>\n",
       "      <td>Customer: Hi, I am facing an issue while loggi...</td>\n",
       "    </tr>\n",
       "    <tr>\n",
       "      <th>4</th>\n",
       "      <td>Order</td>\n",
       "      <td>Order Delivery Issues</td>\n",
       "      <td>Delivery not attempted again</td>\n",
       "      <td>Order Delivery Issues -&gt; Delivery not attempte...</td>\n",
       "      <td>negative</td>\n",
       "      <td>Electronics</td>\n",
       "      <td>Bp Monitor</td>\n",
       "      <td>medium</td>\n",
       "      <td>experienced</td>\n",
       "      <td>confidently handles complex customer issues, e...</td>\n",
       "      <td>Agent: Thank you for contacting BrownBox custo...</td>\n",
       "    </tr>\n",
       "  </tbody>\n",
       "</table>\n",
       "</div>"
      ],
      "text/plain": [
       "                  issue_area                        issue_category  \\\n",
       "0          Login and Account  Mobile Number and Email Verification   \n",
       "1  Cancellations and returns                   Pickup and Shipping   \n",
       "2  Cancellations and returns        Replacement and Return Process   \n",
       "3          Login and Account       Login Issues and Error Messages   \n",
       "4                      Order                 Order Delivery Issues   \n",
       "\n",
       "                                  issue_sub_category  \\\n",
       "0  Verification requirement for mobile number or ...   \n",
       "1           Reasons for being asked to ship the item   \n",
       "2             Inability to click the 'Cancel' button   \n",
       "3  Error message regarding exceeded attempts to e...   \n",
       "4                       Delivery not attempted again   \n",
       "\n",
       "                         issue_category_sub_category customer_sentiment  \\\n",
       "0  Mobile Number and Email Verification -> Verifi...            neutral   \n",
       "1  Pickup and Shipping -> Reasons for being asked...            neutral   \n",
       "2  Replacement and Return Process -> Inability to...            neutral   \n",
       "3  Login Issues and Error Messages -> Error messa...            neutral   \n",
       "4  Order Delivery Issues -> Delivery not attempte...           negative   \n",
       "\n",
       "  product_category       product_sub_category issue_complexity  \\\n",
       "0       Appliances  Oven Toaster Grills (OTG)           medium   \n",
       "1      Electronics           Computer Monitor             less   \n",
       "2       Appliances       Juicer/Mixer/Grinder           medium   \n",
       "3       Appliances             Water Purifier             less   \n",
       "4      Electronics                 Bp Monitor           medium   \n",
       "\n",
       "  agent_experience_level                        agent_experience_level_desc  \\\n",
       "0                 junior  handles customer inquiries independently, poss...   \n",
       "1                 junior  handles customer inquiries independently, poss...   \n",
       "2            experienced  confidently handles complex customer issues, e...   \n",
       "3          inexperienced  may struggle with ambiguous queries, rely on c...   \n",
       "4            experienced  confidently handles complex customer issues, e...   \n",
       "\n",
       "                                        conversation  \n",
       "0  Agent: Thank you for calling BrownBox Customer...  \n",
       "1  Agent: Thank you for calling BrownBox customer...  \n",
       "2  Agent: Thank you for calling BrownBox Customer...  \n",
       "3  Customer: Hi, I am facing an issue while loggi...  \n",
       "4  Agent: Thank you for contacting BrownBox custo...  "
      ]
     },
     "execution_count": 2,
     "metadata": {},
     "output_type": "execute_result"
    }
   ],
   "source": [
    "df.head()"
   ]
  },
  {
   "cell_type": "code",
   "execution_count": 3,
   "id": "f097ae58",
   "metadata": {},
   "outputs": [
    {
     "data": {
      "text/plain": [
       "(1000, 11)"
      ]
     },
     "execution_count": 3,
     "metadata": {},
     "output_type": "execute_result"
    }
   ],
   "source": [
    "df.shape"
   ]
  },
  {
   "cell_type": "code",
   "execution_count": 4,
   "id": "5f9dde74",
   "metadata": {},
   "outputs": [
    {
     "data": {
      "text/plain": [
       "array(['Login and Account', 'Cancellations and returns', 'Order',\n",
       "       'Shopping', 'Warranty', 'Shipping'], dtype=object)"
      ]
     },
     "execution_count": 4,
     "metadata": {},
     "output_type": "execute_result"
    }
   ],
   "source": [
    "df[\"issue_area\"].unique()"
   ]
  },
  {
   "cell_type": "code",
   "execution_count": 5,
   "id": "1b1a92ad",
   "metadata": {},
   "outputs": [
    {
     "name": "stdout",
     "output_type": "stream",
     "text": [
      "Number of categories this dataset contains is =  6\n"
     ]
    }
   ],
   "source": [
    "print(\"Number of categories this dataset contains is = \", len(df[\"issue_area\"].unique()))"
   ]
  },
  {
   "cell_type": "code",
   "execution_count": 6,
   "id": "fb8010e6",
   "metadata": {},
   "outputs": [
    {
     "data": {
      "text/plain": [
       "array(['Mobile Number and Email Verification', 'Pickup and Shipping',\n",
       "       'Replacement and Return Process',\n",
       "       'Login Issues and Error Messages', 'Order Delivery Issues',\n",
       "       'Account Reactivation and Deactivation',\n",
       "       'Cash on Delivery (CoD) Refunds',\n",
       "       'Product Availability and Status', 'Product Installation',\n",
       "       'Order Cancellation', 'Lost or Missing Warranty Card',\n",
       "       'Return and Exchange', 'Start Date of Warranty',\n",
       "       'Invoice and Payment', 'Account and Shopping', 'Miscellaneous',\n",
       "       'Accessing Warranty Details',\n",
       "       'Availability of Faster Delivery Options', 'Returns and Refunds',\n",
       "       'Warranty Terms and Changes', 'Pricing and Discounts',\n",
       "       'Login Methods', 'Product Availability for Shipping',\n",
       "       'Return Checks and Fees', 'Book Pricing Discrepancies',\n",
       "       'Order Confirmation and Status', 'Product Information and Tags',\n",
       "       'Loyalty program', 'Installation and Accessories',\n",
       "       'Warranty Claim Process', 'Product Registration and Warranty',\n",
       "       'Expedited Delivery', 'Adding and Changing Account Information',\n",
       "       'Standard Shipping Speeds and Delivery Charges',\n",
       "       'Shipping Options for Returns', 'Placing an Order',\n",
       "       'Free Delivery Qualification', 'Delivery Process',\n",
       "       'Extended Warranty',\n",
       "       \"Contacting Seller's Partnered Courier Service Providers\"],\n",
       "      dtype=object)"
      ]
     },
     "execution_count": 6,
     "metadata": {},
     "output_type": "execute_result"
    }
   ],
   "source": [
    "# Let's define each problem under each category\n",
    "df[\"issue_category\"].unique()"
   ]
  },
  {
   "cell_type": "code",
   "execution_count": 7,
   "id": "7a11ef09",
   "metadata": {},
   "outputs": [
    {
     "data": {
      "text/plain": [
       "array(['Mobile Number and Email Verification -> Verification requirement for mobile number or email address during login',\n",
       "       'Pickup and Shipping -> Reasons for being asked to ship the item',\n",
       "       \"Replacement and Return Process -> Inability to click the 'Cancel' button\",\n",
       "       'Login Issues and Error Messages -> Error message regarding exceeded attempts to enter the correct verification code',\n",
       "       'Order Delivery Issues -> Delivery not attempted again',\n",
       "       'Account Reactivation and Deactivation -> Reactivating an inactive account',\n",
       "       'Cash on Delivery (CoD) Refunds -> Refund timelines for Cash on Delivery  returns',\n",
       "       \"Product Availability and Status -> Ordering 'Out of Stock' or 'Temporarily Unavailable' products\",\n",
       "       'Product Installation -> Installation after delivery',\n",
       "       'Mobile Number and Email Verification -> Issues with receiving the OTP or verification code',\n",
       "       'Order Cancellation -> Time taken to cancel an order',\n",
       "       'Lost or Missing Warranty Card -> Obtaining warranty without a warranty card',\n",
       "       'Return and Exchange -> Returning or exchanging an item',\n",
       "       'Replacement and Return Process -> Time frame for receiving a replacement',\n",
       "       'Order Delivery Issues -> Delayed delivery',\n",
       "       'Start Date of Warranty -> Determining the applicable start date for the warranty',\n",
       "       'Invoice and Payment -> Billing Discrepancies/Overcharging',\n",
       "       'Return and Exchange -> Modes of refund available after cancellation',\n",
       "       'Order Delivery Issues -> Package not delivered',\n",
       "       'Account and Shopping -> Account requirement for shopping',\n",
       "       'Miscellaneous -> Estimated delivery time',\n",
       "       'Return and Exchange -> Returning a wrong item',\n",
       "       'Accessing Warranty Details -> Retrieving warranty details for a product',\n",
       "       'Mobile Number and Email Verification -> Changing the email ID linked to the account',\n",
       "       'Availability of Faster Delivery Options -> Inability to get some items shipped to a location',\n",
       "       'Pickup and Shipping -> Changing the address for item pick-up',\n",
       "       'Order Delivery Issues -> Inability to track the order',\n",
       "       'Mobile Number and Email Verification -> Understanding OTP or verification code',\n",
       "       'Returns and Refunds -> Service center denial of repair request',\n",
       "       'Warranty Terms and Changes -> Impact of changes in warranty terms on the product',\n",
       "       'Pricing and Discounts -> Discounts through exchange offers',\n",
       "       'Login Methods -> Using an international number for sign-up',\n",
       "       'Cash on Delivery (CoD) Refunds -> Refund for Cash on Delivery payments and reimbursement of courier charges',\n",
       "       'Product Availability for Shipping -> Inability to order specific products (e.g., television, air-conditioner, refrigerator, washing machine, furniture, microwave, treadmill) at a location',\n",
       "       'Order Delivery Issues -> Out for delivery but not received yet',\n",
       "       'Return and Exchange -> Checking the status of a refund',\n",
       "       'Return Checks and Fees -> Applicable Return fee',\n",
       "       'Invoice and Payment -> Getting invoices for previous orders',\n",
       "       'Product Installation -> Impact on warranty if installed by the e-commerce company',\n",
       "       'Book Pricing Discrepancies -> Different prices for books with the same title',\n",
       "       'Pickup and Shipping -> Return request and replacement timeline',\n",
       "       'Order Delivery Issues -> Package shows as delivered but cannot be found',\n",
       "       \"Replacement and Return Process -> Returns after the specified time period in the seller's Returns Policy\",\n",
       "       'Return Checks and Fees -> Determination of the Return Fee',\n",
       "       'Order Confirmation and Status -> Checking order confirmation',\n",
       "       'Return and Exchange -> Eligibility Disputes',\n",
       "       'Pickup and Shipping -> Pickup process',\n",
       "       'Replacement and Return Process -> Products not eligible for returns',\n",
       "       'Order Delivery Issues -> Shipment not out for delivery after reaching the nearest hub',\n",
       "       \"Product Information and Tags -> Finding seller's returns policy\",\n",
       "       'Invoice and Payment -> Payment mode not available (e.g., Cash on Delivery)',\n",
       "       'Product Installation -> Installation responsibility (brand or e-commerce company)',\n",
       "       'Login Methods -> Logging in with a mobile number on the mobile app',\n",
       "       'Login Methods -> Using a corporate email ID for sign-up',\n",
       "       'Loyalty program -> Loyalty points clarifications',\n",
       "       'Availability of Faster Delivery Options -> Unavailability of faster delivery options at a specific location',\n",
       "       'Invoice and Payment -> Missing invoice',\n",
       "       'Installation and Accessories -> Inclusion of a wall mount for televisions',\n",
       "       'Loyalty program -> Reward points redemption',\n",
       "       'Accessing Warranty Details -> Finding warranty details when the details are not remembered',\n",
       "       'Account and Shopping -> Hidden charges',\n",
       "       'Warranty Claim Process -> Claiming warranty on replacement products',\n",
       "       'Return Checks and Fees -> Checks performed for returned items',\n",
       "       'Product Registration and Warranty -> Need to register the product with the brand for warranty benefits',\n",
       "       'Expedited Delivery -> Faster delivery options',\n",
       "       'Adding and Changing Account Information -> Changing the password for the account',\n",
       "       'Mobile Number and Email Verification -> Purpose of verifying mobile number or email address for account login',\n",
       "       'Standard Shipping Speeds and Delivery Charges -> Queries regarding delivery charges',\n",
       "       'Account Reactivation and Deactivation -> Deactivating the account',\n",
       "       'Returns and Refunds -> Damaged Goods/Poor Packaging',\n",
       "       \"Returns and Refunds -> Seller's returns policy\",\n",
       "       'Standard Shipping Speeds and Delivery Charges -> Understanding the standard shipping speeds',\n",
       "       'Return and Exchange -> Package open or tampered on delivery',\n",
       "       'Adding and Changing Account Information -> Adding a new delivery address to the account',\n",
       "       'Lost or Missing Warranty Card -> Mismatch in warranty terms between the website and the physical warranty card',\n",
       "       'Shipping Options for Returns -> Availability of faster delivery options (e.g., Same Day & In-a-Day) for return requests',\n",
       "       'Pricing and Discounts -> Instant cashback',\n",
       "       'Placing an Order -> Order placement process',\n",
       "       \"Order Confirmation and Status -> Different order statuses in 'My Orders'\",\n",
       "       'Order Delivery Issues -> Delivery to Wrong Address',\n",
       "       'Order Confirmation and Status -> Tracking/Shipping Updates',\n",
       "       'Order Delivery Issues -> Missed delivery',\n",
       "       'Pickup and Shipping -> Reimbursement of courier charges for return',\n",
       "       'Pickup and Shipping -> Refund not received in bank account',\n",
       "       'Return and Exchange -> Instances when returning an item is not possible',\n",
       "       'Lost or Missing Warranty Card -> Process of claiming warranty without a warranty card',\n",
       "       'Replacement and Return Process -> Returning freebies with a product',\n",
       "       'Replacement and Return Process -> Dealing with product issues after the return period',\n",
       "       'Order Confirmation and Status -> Confirming order status',\n",
       "       'Pricing and Discounts -> Discount/Promotion Application',\n",
       "       'Product Availability and Status -> International shipping',\n",
       "       'Login Issues and Error Messages -> Accessing the account when the phone is lost and the password is forgotten',\n",
       "       'Returns and Refunds -> Complaint about the courier executive',\n",
       "       'Cash on Delivery (CoD) Refunds -> Refund process for items paid for with Cash on Delivery ',\n",
       "       'Free Delivery Qualification -> Reasons for an order not qualifying for free delivery',\n",
       "       'Pricing and Discounts -> Different prices for the same product',\n",
       "       'Adding and Changing Account Information -> Using a new email address to log in to the account',\n",
       "       'Account and Shopping -> Clubbing orders from different sellers for combined delivery',\n",
       "       'Delivery Process -> Delivery method and process',\n",
       "       'Return and Exchange -> Refund timelines for cancellation or returns',\n",
       "       'Extended Warranty -> Process of signing up for an extended warranty for a product',\n",
       "       'Replacement and Return Process -> Return process and how it works',\n",
       "       'Order Delivery Issues -> Order approved but not shipped',\n",
       "       'Return and Exchange -> Refund Delays/Complications',\n",
       "       'Return and Exchange -> Return Shipping/Pickup Issues',\n",
       "       \"Warranty Terms and Changes -> Warranty mismatch between the website and the brand's website\",\n",
       "       'Warranty Claim Process -> Steps to claim warranty for a product',\n",
       "       \"Contacting Seller's Partnered Courier Service Providers -> How to get in touch with the courier service providers associated with sellers\",\n",
       "       'Product Registration and Warranty -> Applicability of warranty for products purchased online'],\n",
       "      dtype=object)"
      ]
     },
     "execution_count": 7,
     "metadata": {},
     "output_type": "execute_result"
    }
   ],
   "source": [
    "df[\"issue_category_sub_category\"].unique()"
   ]
  },
  {
   "cell_type": "code",
   "execution_count": 8,
   "id": "ce884a04",
   "metadata": {},
   "outputs": [
    {
     "data": {
      "text/plain": [
       "1000"
      ]
     },
     "execution_count": 8,
     "metadata": {},
     "output_type": "execute_result"
    }
   ],
   "source": [
    "len(df[\"conversation\"])"
   ]
  },
  {
   "cell_type": "code",
   "execution_count": 9,
   "id": "e6ac7f56",
   "metadata": {},
   "outputs": [
    {
     "data": {
      "text/plain": [
       "\"Agent: Thank you for calling BrownBox Customer Support. My name is Tom. How may I assist you today?\\n\\nCustomer: Hi Tom, I'm trying to log in to my account to purchase an Oven Toaster Grill (OTG), but I'm unable to proceed as it's asking for mobile number or email verification. Can you help me with that?\\n\\nAgent: Sure, I can assist you with that. May I know your registered mobile number or email address, please?\\n\\nCustomer: My registered mobile number is +1 123-456-7890.\\n\\nAgent: Thank you. Let me check that for you. I'm sorry to inform you that we don't have this number on our records. Can you please confirm if this is the correct number?\\n\\nCustomer: Oh, I'm sorry. I might have registered with a different number. Can you please check with my email address instead? It's johndoe@email.com.\\n\\nAgent: Sure, let me check that for you. (After a few moments) I see that we have your email address on our records. We'll be sending you a verification code shortly. Please check your email and let me know once you receive it.\\n\\nCustomer: Okay, I received the code. What do I do with it?\\n\\nAgent: Please enter the verification code in the field provided and click on 'Verify'. Once your email address is verified, you'll be able to proceed with your purchase.\\n\\nCustomer: Okay, I entered the code, and it's verified now. Thank you for your help.\\n\\nAgent: You're welcome. Is there anything else I can assist you with?\\n\\nCustomer: No, that's all. Thank you.\\n\\nAgent: You're welcome. Have a great day!\""
      ]
     },
     "execution_count": 9,
     "metadata": {},
     "output_type": "execute_result"
    }
   ],
   "source": [
    "df[\"conversation\"].iloc[0]"
   ]
  },
  {
   "cell_type": "code",
   "execution_count": 10,
   "id": "0be344c4",
   "metadata": {},
   "outputs": [],
   "source": [
    "import re"
   ]
  },
  {
   "cell_type": "code",
   "execution_count": 11,
   "id": "b5fb46d1",
   "metadata": {},
   "outputs": [],
   "source": [
    "# Let's split the conversation column\n",
    "context_list = []\n",
    "response_list = []\n",
    "\n",
    "        \n",
    "for j in range(len(df[\"conversation\"])):\n",
    "    conversation = df[\"conversation\"].iloc[j]\n",
    "    # Step 1: Split based on \"Agent\" and \"Customer\" turns\n",
    "    turns = re.split(r'(Agent:|Customer:)', conversation)\n",
    "    for i in range(1, len(turns) - 1, 2):\n",
    "        # Assuming the agent's response follows the customer's context\n",
    "        context_list.append(turns[i + 0].strip())  # Customer's query\n",
    "        response_list.append(turns[i + 1].strip())  # Agent's response"
   ]
  },
  {
   "cell_type": "code",
   "execution_count": 12,
   "id": "85a1b4d6",
   "metadata": {},
   "outputs": [
    {
     "name": "stdout",
     "output_type": "stream",
     "text": [
      "Context: Agent:\n",
      "Response: Thank you for calling BrownBox Customer Support. My name is Tom. How may I assist you today?\n",
      "--------------------------------------------------\n",
      "Context: Customer:\n",
      "Response: Hi Tom, I'm trying to log in to my account to purchase an Oven Toaster Grill (OTG), but I'm unable to proceed as it's asking for mobile number or email verification. Can you help me with that?\n",
      "--------------------------------------------------\n",
      "Context: Agent:\n",
      "Response: Sure, I can assist you with that. May I know your registered mobile number or email address, please?\n",
      "--------------------------------------------------\n",
      "Context: Customer:\n",
      "Response: My registered mobile number is +1 123-456-7890.\n",
      "--------------------------------------------------\n",
      "Context: Agent:\n",
      "Response: Thank you. Let me check that for you. I'm sorry to inform you that we don't have this number on our records. Can you please confirm if this is the correct number?\n",
      "--------------------------------------------------\n"
     ]
    }
   ],
   "source": [
    "# Output the first few context-response pairs\n",
    "for context, response in zip(context_list[:5], response_list[:5]):\n",
    "    print(f\"Context: {context}\")\n",
    "    print(f\"Response: {response}\")\n",
    "    print(\"-\" * 50)"
   ]
  },
  {
   "cell_type": "markdown",
   "id": "1eced4da",
   "metadata": {},
   "source": [
    "## Clean and Tokenize Text "
   ]
  },
  {
   "cell_type": "markdown",
   "id": "280e400b",
   "metadata": {},
   "source": [
    "#### 1. Text Cleaning: Clean the text for both context and response columns (lowercasing, removing special characters, etc.)."
   ]
  },
  {
   "cell_type": "code",
   "execution_count": 13,
   "id": "df2e1040",
   "metadata": {},
   "outputs": [],
   "source": [
    "context_list = [text.lower().replace(r'[^a-zA-Z\\s]', '') for text in context_list]\n",
    "response_list = [text.lower().replace(r'[^a-zA-Z\\s]', '') for text in response_list]"
   ]
  },
  {
   "cell_type": "code",
   "execution_count": 14,
   "id": "814b48a9",
   "metadata": {},
   "outputs": [
    {
     "name": "stdout",
     "output_type": "stream",
     "text": [
      "Context: agent:\n",
      "Response: thank you for calling brownbox customer support. my name is tom. how may i assist you today?\n",
      "--------------------------------------------------\n",
      "Context: customer:\n",
      "Response: hi tom, i'm trying to log in to my account to purchase an oven toaster grill (otg), but i'm unable to proceed as it's asking for mobile number or email verification. can you help me with that?\n",
      "--------------------------------------------------\n",
      "Context: agent:\n",
      "Response: sure, i can assist you with that. may i know your registered mobile number or email address, please?\n",
      "--------------------------------------------------\n",
      "Context: customer:\n",
      "Response: my registered mobile number is +1 123-456-7890.\n",
      "--------------------------------------------------\n",
      "Context: agent:\n",
      "Response: thank you. let me check that for you. i'm sorry to inform you that we don't have this number on our records. can you please confirm if this is the correct number?\n",
      "--------------------------------------------------\n"
     ]
    }
   ],
   "source": [
    "for context, response in zip(context_list[:5], response_list[:5]):\n",
    "    print(f\"Context: {context}\")\n",
    "    print(f\"Response: {response}\")\n",
    "    print(\"-\" * 50)"
   ]
  },
  {
   "cell_type": "markdown",
   "id": "2087aff4",
   "metadata": {},
   "source": [
    "#### 2.Tokenization: Use a tokenizer (e.g., Keras Tokenizer or Hugging Face Tokenizer) to convert the text into sequences of tokens."
   ]
  },
  {
   "cell_type": "code",
   "execution_count": 15,
   "id": "7d68e40b",
   "metadata": {},
   "outputs": [],
   "source": [
    "from tensorflow.keras.preprocessing.text import Tokenizer\n",
    "\n",
    "tokenizer = Tokenizer()\n",
    "tokenizer.fit_on_texts(context_list + response_list)  # Fit on both context and responses\n",
    "context_seq = tokenizer.texts_to_sequences(context_list)\n",
    "response_seq = tokenizer.texts_to_sequences(response_list)"
   ]
  },
  {
   "cell_type": "markdown",
   "id": "370f1ba1",
   "metadata": {},
   "source": [
    "#### 3.Padding Sequences: Make sure that the input (context) and output (response) sequences are of uniform length by padding. "
   ]
  },
  {
   "cell_type": "code",
   "execution_count": 16,
   "id": "be322ed9",
   "metadata": {},
   "outputs": [],
   "source": [
    "from tensorflow.keras.preprocessing.sequence import pad_sequences\n",
    "\n",
    "max_len = 50  # Choose a suitable maximum length\n",
    "context_seq = pad_sequences(context_seq, maxlen=max_len, padding='post')\n",
    "response_seq = pad_sequences(response_seq, maxlen=max_len, padding='post')"
   ]
  },
  {
   "cell_type": "markdown",
   "id": "59627c4d",
   "metadata": {},
   "source": [
    "## Prepare for Sequence-to-Sequence Model"
   ]
  },
  {
   "cell_type": "markdown",
   "id": "0f311a04",
   "metadata": {},
   "source": [
    "#### 1.Format Data for Model: Your data should be organized as (context, response) pairs for training."
   ]
  },
  {
   "cell_type": "code",
   "execution_count": 17,
   "id": "6146d010",
   "metadata": {},
   "outputs": [],
   "source": [
    "X = context_seq  # User query (context)\n",
    "y = response_seq  # System response"
   ]
  },
  {
   "cell_type": "markdown",
   "id": "0af432da",
   "metadata": {},
   "source": [
    "#### 2.Split Data: Divide the data into training, validation, and test sets.\n"
   ]
  },
  {
   "cell_type": "code",
   "execution_count": 18,
   "id": "4e6d1942",
   "metadata": {},
   "outputs": [],
   "source": [
    "from sklearn.model_selection import train_test_split\n",
    "\n",
    "X_train, X_val, y_train, y_val = train_test_split(X, y, test_size=0.2, random_state=42)"
   ]
  },
  {
   "cell_type": "markdown",
   "id": "c83575ec",
   "metadata": {},
   "source": [
    "## Build the Sequence-to-Sequence Model with LSTM"
   ]
  },
  {
   "cell_type": "code",
   "execution_count": 19,
   "id": "68149e29",
   "metadata": {},
   "outputs": [
    {
     "data": {
      "text/plain": [
       "(13748, 50)"
      ]
     },
     "execution_count": 19,
     "metadata": {},
     "output_type": "execute_result"
    }
   ],
   "source": [
    "X_train.shape"
   ]
  },
  {
   "cell_type": "code",
   "execution_count": 20,
   "id": "de8e7841",
   "metadata": {},
   "outputs": [
    {
     "data": {
      "text/plain": [
       "(3438, 50)"
      ]
     },
     "execution_count": 20,
     "metadata": {},
     "output_type": "execute_result"
    }
   ],
   "source": [
    "X_val.shape"
   ]
  },
  {
   "cell_type": "code",
   "execution_count": 21,
   "id": "bb30e044",
   "metadata": {},
   "outputs": [
    {
     "data": {
      "text/plain": [
       "((13748, 50), (3438, 50))"
      ]
     },
     "execution_count": 21,
     "metadata": {},
     "output_type": "execute_result"
    }
   ],
   "source": [
    "y_train.shape, y_val.shape"
   ]
  },
  {
   "cell_type": "code",
   "execution_count": 22,
   "id": "eeadff62",
   "metadata": {},
   "outputs": [
    {
     "data": {
      "text/plain": [
       "3514"
      ]
     },
     "execution_count": 22,
     "metadata": {},
     "output_type": "execute_result"
    }
   ],
   "source": [
    "len(tokenizer.word_index)"
   ]
  },
  {
   "cell_type": "code",
   "execution_count": 25,
   "id": "34a28396",
   "metadata": {},
   "outputs": [
    {
     "name": "stdout",
     "output_type": "stream",
     "text": [
      "Model: \"sequential_1\"\n",
      "_________________________________________________________________\n",
      " Layer (type)                Output Shape              Param #   \n",
      "=================================================================\n",
      " embedding_2 (Embedding)     (None, 50, 200)           703000    \n",
      "                                                                 \n",
      " lstm_2 (LSTM)               (None, 50, 256)           467968    \n",
      "                                                                 \n",
      " dropout_1 (Dropout)         (None, 50, 256)           0         \n",
      "                                                                 \n",
      " dense_1 (Dense)             (None, 50, 3515)          903355    \n",
      "                                                                 \n",
      "=================================================================\n",
      "Total params: 2074323 (7.91 MB)\n",
      "Trainable params: 2074323 (7.91 MB)\n",
      "Non-trainable params: 0 (0.00 Byte)\n",
      "_________________________________________________________________\n"
     ]
    }
   ],
   "source": [
    "from tensorflow.keras import Sequential\n",
    "from tensorflow.keras.layers import Embedding, LSTM, Dense, Dropout\n",
    "from tensorflow.keras.optimizers import Adam\n",
    "\n",
    "\n",
    "vocab_size = 3515  # Ensure this matches your tokenizer vocab size\n",
    "output_dim = 200  # Embedding vector size\n",
    "\n",
    "model = Sequential([\n",
    "    Embedding(input_dim=vocab_size, output_dim=output_dim, input_length=50),\n",
    "    LSTM(256, return_sequences=True),  # LSTM hidden size\n",
    "    Dropout(0.3),  # Dropout with 30% probability\n",
    "    Dense(vocab_size, activation='softmax')  # Final layer for classification\n",
    "])\n",
    "\n",
    "model.compile(optimizer=Adam(learning_rate=0.0005), loss='sparse_categorical_crossentropy', metrics=['accuracy'])\n",
    "model.summary()"
   ]
  },
  {
   "cell_type": "markdown",
   "id": "f1a0558c",
   "metadata": {},
   "source": [
    "## Train the Model"
   ]
  },
  {
   "cell_type": "code",
   "execution_count": 27,
   "id": "8a4c6cdb",
   "metadata": {},
   "outputs": [],
   "source": [
    "import numpy as np\n",
    "from tensorflow.keras.callbacks import EarlyStopping\n",
    "\n",
    "early_stop = EarlyStopping(monitor='val_loss', patience=3, restore_best_weights=True)"
   ]
  },
  {
   "cell_type": "code",
   "execution_count": 58,
   "id": "87eb48d4",
   "metadata": {},
   "outputs": [
    {
     "name": "stdout",
     "output_type": "stream",
     "text": [
      "Epoch 1/10\n",
      "215/215 [==============================] - 104s 471ms/step - loss: 3.3804 - accuracy: 0.5915 - val_loss: 2.8362 - val_accuracy: 0.5978\n",
      "Epoch 2/10\n",
      "215/215 [==============================] - 106s 494ms/step - loss: 2.6806 - accuracy: 0.5971 - val_loss: 2.5855 - val_accuracy: 0.6013\n",
      "Epoch 3/10\n",
      "215/215 [==============================] - 113s 528ms/step - loss: 2.5789 - accuracy: 0.6000 - val_loss: 2.5429 - val_accuracy: 0.6049\n",
      "Epoch 4/10\n",
      "215/215 [==============================] - 108s 501ms/step - loss: 2.5374 - accuracy: 0.6022 - val_loss: 2.5107 - val_accuracy: 0.6054\n",
      "Epoch 5/10\n",
      "215/215 [==============================] - 104s 484ms/step - loss: 2.5169 - accuracy: 0.6023 - val_loss: 2.4968 - val_accuracy: 0.6057\n",
      "Epoch 6/10\n",
      "215/215 [==============================] - 136s 636ms/step - loss: 2.5036 - accuracy: 0.6024 - val_loss: 2.4913 - val_accuracy: 0.6068\n",
      "Epoch 7/10\n",
      "215/215 [==============================] - 154s 715ms/step - loss: 2.4949 - accuracy: 0.6030 - val_loss: 2.4909 - val_accuracy: 0.6052\n",
      "Epoch 8/10\n",
      "215/215 [==============================] - 125s 583ms/step - loss: 2.4889 - accuracy: 0.6045 - val_loss: 2.4785 - val_accuracy: 0.6085\n",
      "Epoch 9/10\n",
      "215/215 [==============================] - 124s 579ms/step - loss: 2.4803 - accuracy: 0.6052 - val_loss: 2.4719 - val_accuracy: 0.6083\n",
      "Epoch 10/10\n",
      "215/215 [==============================] - 126s 585ms/step - loss: 2.4748 - accuracy: 0.6052 - val_loss: 2.4650 - val_accuracy: 0.6090\n"
     ]
    },
    {
     "data": {
      "text/plain": [
       "<keras.src.callbacks.History at 0x19578a0bd90>"
      ]
     },
     "execution_count": 58,
     "metadata": {},
     "output_type": "execute_result"
    }
   ],
   "source": [
    "history = model.fit(X_train, y_train, \n",
    "                    validation_data=(X_val, y_val),\n",
    "                    epochs=20, \n",
    "                    batch_size=64,\n",
    "                    callbacks=[early_stop])"
   ]
  },
  {
   "cell_type": "markdown",
   "id": "2778d513",
   "metadata": {},
   "source": [
    "## Evaluate model"
   ]
  },
  {
   "cell_type": "code",
   "execution_count": 60,
   "id": "61344647",
   "metadata": {},
   "outputs": [
    {
     "name": "stdout",
     "output_type": "stream",
     "text": [
      "108/108 [==============================] - 20s 182ms/step - loss: 2.4650 - accuracy: 0.6090\n",
      "Validation Loss: 2.4650\n",
      "Validation Accuracy: 0.6090\n"
     ]
    }
   ],
   "source": [
    "# Evaluate the model on validation/test data\n",
    "loss, accuracy = model.evaluate(X_val, y_val, verbose=1)\n",
    "print(f\"Validation Loss: {loss:.4f}\")\n",
    "print(f\"Validation Accuracy: {accuracy:.4f}\")"
   ]
  },
  {
   "cell_type": "markdown",
   "id": "93213a70",
   "metadata": {},
   "source": [
    "## Generate Text"
   ]
  },
  {
   "cell_type": "code",
   "execution_count": 62,
   "id": "32dac9d9",
   "metadata": {},
   "outputs": [],
   "source": [
    "import tensorflow as tf"
   ]
  },
  {
   "cell_type": "code",
   "execution_count": 63,
   "id": "dd7c72f5",
   "metadata": {},
   "outputs": [
    {
     "name": "stdout",
     "output_type": "stream",
     "text": [
      "Thank you for calling                    \n"
     ]
    }
   ],
   "source": [
    "# Generate a response given a seed text\n",
    "def generate_text(model, tokenizer, seed_text, max_length):\n",
    "    for _ in range(max_length):\n",
    "        sequence = tokenizer.texts_to_sequences([seed_text])\n",
    "        padded_sequence = tf.keras.preprocessing.sequence.pad_sequences(sequence, maxlen=50)\n",
    "        predictions = model.predict(padded_sequence, verbose=0)\n",
    "        \n",
    "        predicted_word_index = np.argmax(predictions[0, -1, :])\n",
    "        output_word = tokenizer.index_word.get(predicted_word_index, '')\n",
    "        seed_text += \" \" + output_word\n",
    "    return seed_text\n",
    "\n",
    "# Example generation\n",
    "seed_text = \"Thank you for calling\"\n",
    "print(generate_text(model, tokenizer, seed_text, max_length=20))"
   ]
  },
  {
   "cell_type": "code",
   "execution_count": 64,
   "id": "1f84a92d",
   "metadata": {},
   "outputs": [
    {
     "name": "stderr",
     "output_type": "stream",
     "text": [
      "C:\\Users\\Ashraf\\anaconda3\\lib\\site-packages\\keras\\src\\engine\\training.py:3000: UserWarning: You are saving your model as an HDF5 file via `model.save()`. This file format is considered legacy. We recommend using instead the native Keras format, e.g. `model.save('my_model.keras')`.\n",
      "  saving_api.save_model(\n"
     ]
    }
   ],
   "source": [
    "model.save(\"text_generator_model.h5\")"
   ]
  },
  {
   "cell_type": "code",
   "execution_count": null,
   "id": "be19f5c7",
   "metadata": {},
   "outputs": [],
   "source": []
  }
 ],
 "metadata": {
  "kernelspec": {
   "display_name": "Python 3 (ipykernel)",
   "language": "python",
   "name": "python3"
  },
  "language_info": {
   "codemirror_mode": {
    "name": "ipython",
    "version": 3
   },
   "file_extension": ".py",
   "mimetype": "text/x-python",
   "name": "python",
   "nbconvert_exporter": "python",
   "pygments_lexer": "ipython3",
   "version": "3.9.13"
  }
 },
 "nbformat": 4,
 "nbformat_minor": 5
}
