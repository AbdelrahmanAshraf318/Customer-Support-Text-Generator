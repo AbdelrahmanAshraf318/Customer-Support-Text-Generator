{
 "cells": [
  {
   "cell_type": "markdown",
   "id": "44684042",
   "metadata": {},
   "source": [
    "### Get an E-Commerce Dataset from Hugging Face"
   ]
  },
  {
   "cell_type": "code",
   "execution_count": 1,
   "id": "cb7c3642",
   "metadata": {},
   "outputs": [],
   "source": [
    "import pandas as pd\n",
    "\n",
    "df = pd.read_parquet(\"hf://datasets/NebulaByte/E-Commerce_Customer_Support_Conversations/data/train-00000-of-00001-a5a7c6e4bb30b016.parquet\")"
   ]
  },
  {
   "cell_type": "code",
   "execution_count": 2,
   "id": "65ddef77",
   "metadata": {},
   "outputs": [
    {
     "data": {
      "text/html": [
       "<div>\n",
       "<style scoped>\n",
       "    .dataframe tbody tr th:only-of-type {\n",
       "        vertical-align: middle;\n",
       "    }\n",
       "\n",
       "    .dataframe tbody tr th {\n",
       "        vertical-align: top;\n",
       "    }\n",
       "\n",
       "    .dataframe thead th {\n",
       "        text-align: right;\n",
       "    }\n",
       "</style>\n",
       "<table border=\"1\" class=\"dataframe\">\n",
       "  <thead>\n",
       "    <tr style=\"text-align: right;\">\n",
       "      <th></th>\n",
       "      <th>issue_area</th>\n",
       "      <th>issue_category</th>\n",
       "      <th>issue_sub_category</th>\n",
       "      <th>issue_category_sub_category</th>\n",
       "      <th>customer_sentiment</th>\n",
       "      <th>product_category</th>\n",
       "      <th>product_sub_category</th>\n",
       "      <th>issue_complexity</th>\n",
       "      <th>agent_experience_level</th>\n",
       "      <th>agent_experience_level_desc</th>\n",
       "      <th>conversation</th>\n",
       "    </tr>\n",
       "  </thead>\n",
       "  <tbody>\n",
       "    <tr>\n",
       "      <th>0</th>\n",
       "      <td>Login and Account</td>\n",
       "      <td>Mobile Number and Email Verification</td>\n",
       "      <td>Verification requirement for mobile number or ...</td>\n",
       "      <td>Mobile Number and Email Verification -&gt; Verifi...</td>\n",
       "      <td>neutral</td>\n",
       "      <td>Appliances</td>\n",
       "      <td>Oven Toaster Grills (OTG)</td>\n",
       "      <td>medium</td>\n",
       "      <td>junior</td>\n",
       "      <td>handles customer inquiries independently, poss...</td>\n",
       "      <td>Agent: Thank you for calling BrownBox Customer...</td>\n",
       "    </tr>\n",
       "    <tr>\n",
       "      <th>1</th>\n",
       "      <td>Cancellations and returns</td>\n",
       "      <td>Pickup and Shipping</td>\n",
       "      <td>Reasons for being asked to ship the item</td>\n",
       "      <td>Pickup and Shipping -&gt; Reasons for being asked...</td>\n",
       "      <td>neutral</td>\n",
       "      <td>Electronics</td>\n",
       "      <td>Computer Monitor</td>\n",
       "      <td>less</td>\n",
       "      <td>junior</td>\n",
       "      <td>handles customer inquiries independently, poss...</td>\n",
       "      <td>Agent: Thank you for calling BrownBox customer...</td>\n",
       "    </tr>\n",
       "    <tr>\n",
       "      <th>2</th>\n",
       "      <td>Cancellations and returns</td>\n",
       "      <td>Replacement and Return Process</td>\n",
       "      <td>Inability to click the 'Cancel' button</td>\n",
       "      <td>Replacement and Return Process -&gt; Inability to...</td>\n",
       "      <td>neutral</td>\n",
       "      <td>Appliances</td>\n",
       "      <td>Juicer/Mixer/Grinder</td>\n",
       "      <td>medium</td>\n",
       "      <td>experienced</td>\n",
       "      <td>confidently handles complex customer issues, e...</td>\n",
       "      <td>Agent: Thank you for calling BrownBox Customer...</td>\n",
       "    </tr>\n",
       "    <tr>\n",
       "      <th>3</th>\n",
       "      <td>Login and Account</td>\n",
       "      <td>Login Issues and Error Messages</td>\n",
       "      <td>Error message regarding exceeded attempts to e...</td>\n",
       "      <td>Login Issues and Error Messages -&gt; Error messa...</td>\n",
       "      <td>neutral</td>\n",
       "      <td>Appliances</td>\n",
       "      <td>Water Purifier</td>\n",
       "      <td>less</td>\n",
       "      <td>inexperienced</td>\n",
       "      <td>may struggle with ambiguous queries, rely on c...</td>\n",
       "      <td>Customer: Hi, I am facing an issue while loggi...</td>\n",
       "    </tr>\n",
       "    <tr>\n",
       "      <th>4</th>\n",
       "      <td>Order</td>\n",
       "      <td>Order Delivery Issues</td>\n",
       "      <td>Delivery not attempted again</td>\n",
       "      <td>Order Delivery Issues -&gt; Delivery not attempte...</td>\n",
       "      <td>negative</td>\n",
       "      <td>Electronics</td>\n",
       "      <td>Bp Monitor</td>\n",
       "      <td>medium</td>\n",
       "      <td>experienced</td>\n",
       "      <td>confidently handles complex customer issues, e...</td>\n",
       "      <td>Agent: Thank you for contacting BrownBox custo...</td>\n",
       "    </tr>\n",
       "  </tbody>\n",
       "</table>\n",
       "</div>"
      ],
      "text/plain": [
       "                  issue_area                        issue_category  \\\n",
       "0          Login and Account  Mobile Number and Email Verification   \n",
       "1  Cancellations and returns                   Pickup and Shipping   \n",
       "2  Cancellations and returns        Replacement and Return Process   \n",
       "3          Login and Account       Login Issues and Error Messages   \n",
       "4                      Order                 Order Delivery Issues   \n",
       "\n",
       "                                  issue_sub_category  \\\n",
       "0  Verification requirement for mobile number or ...   \n",
       "1           Reasons for being asked to ship the item   \n",
       "2             Inability to click the 'Cancel' button   \n",
       "3  Error message regarding exceeded attempts to e...   \n",
       "4                       Delivery not attempted again   \n",
       "\n",
       "                         issue_category_sub_category customer_sentiment  \\\n",
       "0  Mobile Number and Email Verification -> Verifi...            neutral   \n",
       "1  Pickup and Shipping -> Reasons for being asked...            neutral   \n",
       "2  Replacement and Return Process -> Inability to...            neutral   \n",
       "3  Login Issues and Error Messages -> Error messa...            neutral   \n",
       "4  Order Delivery Issues -> Delivery not attempte...           negative   \n",
       "\n",
       "  product_category       product_sub_category issue_complexity  \\\n",
       "0       Appliances  Oven Toaster Grills (OTG)           medium   \n",
       "1      Electronics           Computer Monitor             less   \n",
       "2       Appliances       Juicer/Mixer/Grinder           medium   \n",
       "3       Appliances             Water Purifier             less   \n",
       "4      Electronics                 Bp Monitor           medium   \n",
       "\n",
       "  agent_experience_level                        agent_experience_level_desc  \\\n",
       "0                 junior  handles customer inquiries independently, poss...   \n",
       "1                 junior  handles customer inquiries independently, poss...   \n",
       "2            experienced  confidently handles complex customer issues, e...   \n",
       "3          inexperienced  may struggle with ambiguous queries, rely on c...   \n",
       "4            experienced  confidently handles complex customer issues, e...   \n",
       "\n",
       "                                        conversation  \n",
       "0  Agent: Thank you for calling BrownBox Customer...  \n",
       "1  Agent: Thank you for calling BrownBox customer...  \n",
       "2  Agent: Thank you for calling BrownBox Customer...  \n",
       "3  Customer: Hi, I am facing an issue while loggi...  \n",
       "4  Agent: Thank you for contacting BrownBox custo...  "
      ]
     },
     "execution_count": 2,
     "metadata": {},
     "output_type": "execute_result"
    }
   ],
   "source": [
    "df.head()"
   ]
  },
  {
   "cell_type": "code",
   "execution_count": 3,
   "id": "f097ae58",
   "metadata": {},
   "outputs": [
    {
     "data": {
      "text/plain": [
       "(1000, 11)"
      ]
     },
     "execution_count": 3,
     "metadata": {},
     "output_type": "execute_result"
    }
   ],
   "source": [
    "df.shape"
   ]
  },
  {
   "cell_type": "code",
   "execution_count": 4,
   "id": "5f9dde74",
   "metadata": {},
   "outputs": [
    {
     "data": {
      "text/plain": [
       "array(['Login and Account', 'Cancellations and returns', 'Order',\n",
       "       'Shopping', 'Warranty', 'Shipping'], dtype=object)"
      ]
     },
     "execution_count": 4,
     "metadata": {},
     "output_type": "execute_result"
    }
   ],
   "source": [
    "df[\"issue_area\"].unique()"
   ]
  },
  {
   "cell_type": "code",
   "execution_count": 5,
   "id": "1b1a92ad",
   "metadata": {},
   "outputs": [
    {
     "name": "stdout",
     "output_type": "stream",
     "text": [
      "Number of categories this dataset contains is =  6\n"
     ]
    }
   ],
   "source": [
    "print(\"Number of categories this dataset contains is = \", len(df[\"issue_area\"].unique()))"
   ]
  },
  {
   "cell_type": "code",
   "execution_count": 6,
   "id": "fb8010e6",
   "metadata": {},
   "outputs": [
    {
     "data": {
      "text/plain": [
       "array(['Mobile Number and Email Verification', 'Pickup and Shipping',\n",
       "       'Replacement and Return Process',\n",
       "       'Login Issues and Error Messages', 'Order Delivery Issues',\n",
       "       'Account Reactivation and Deactivation',\n",
       "       'Cash on Delivery (CoD) Refunds',\n",
       "       'Product Availability and Status', 'Product Installation',\n",
       "       'Order Cancellation', 'Lost or Missing Warranty Card',\n",
       "       'Return and Exchange', 'Start Date of Warranty',\n",
       "       'Invoice and Payment', 'Account and Shopping', 'Miscellaneous',\n",
       "       'Accessing Warranty Details',\n",
       "       'Availability of Faster Delivery Options', 'Returns and Refunds',\n",
       "       'Warranty Terms and Changes', 'Pricing and Discounts',\n",
       "       'Login Methods', 'Product Availability for Shipping',\n",
       "       'Return Checks and Fees', 'Book Pricing Discrepancies',\n",
       "       'Order Confirmation and Status', 'Product Information and Tags',\n",
       "       'Loyalty program', 'Installation and Accessories',\n",
       "       'Warranty Claim Process', 'Product Registration and Warranty',\n",
       "       'Expedited Delivery', 'Adding and Changing Account Information',\n",
       "       'Standard Shipping Speeds and Delivery Charges',\n",
       "       'Shipping Options for Returns', 'Placing an Order',\n",
       "       'Free Delivery Qualification', 'Delivery Process',\n",
       "       'Extended Warranty',\n",
       "       \"Contacting Seller's Partnered Courier Service Providers\"],\n",
       "      dtype=object)"
      ]
     },
     "execution_count": 6,
     "metadata": {},
     "output_type": "execute_result"
    }
   ],
   "source": [
    "# Let's define each problem under each category\n",
    "df[\"issue_category\"].unique()"
   ]
  },
  {
   "cell_type": "code",
   "execution_count": 7,
   "id": "7a11ef09",
   "metadata": {},
   "outputs": [
    {
     "data": {
      "text/plain": [
       "array(['Mobile Number and Email Verification -> Verification requirement for mobile number or email address during login',\n",
       "       'Pickup and Shipping -> Reasons for being asked to ship the item',\n",
       "       \"Replacement and Return Process -> Inability to click the 'Cancel' button\",\n",
       "       'Login Issues and Error Messages -> Error message regarding exceeded attempts to enter the correct verification code',\n",
       "       'Order Delivery Issues -> Delivery not attempted again',\n",
       "       'Account Reactivation and Deactivation -> Reactivating an inactive account',\n",
       "       'Cash on Delivery (CoD) Refunds -> Refund timelines for Cash on Delivery  returns',\n",
       "       \"Product Availability and Status -> Ordering 'Out of Stock' or 'Temporarily Unavailable' products\",\n",
       "       'Product Installation -> Installation after delivery',\n",
       "       'Mobile Number and Email Verification -> Issues with receiving the OTP or verification code',\n",
       "       'Order Cancellation -> Time taken to cancel an order',\n",
       "       'Lost or Missing Warranty Card -> Obtaining warranty without a warranty card',\n",
       "       'Return and Exchange -> Returning or exchanging an item',\n",
       "       'Replacement and Return Process -> Time frame for receiving a replacement',\n",
       "       'Order Delivery Issues -> Delayed delivery',\n",
       "       'Start Date of Warranty -> Determining the applicable start date for the warranty',\n",
       "       'Invoice and Payment -> Billing Discrepancies/Overcharging',\n",
       "       'Return and Exchange -> Modes of refund available after cancellation',\n",
       "       'Order Delivery Issues -> Package not delivered',\n",
       "       'Account and Shopping -> Account requirement for shopping',\n",
       "       'Miscellaneous -> Estimated delivery time',\n",
       "       'Return and Exchange -> Returning a wrong item',\n",
       "       'Accessing Warranty Details -> Retrieving warranty details for a product',\n",
       "       'Mobile Number and Email Verification -> Changing the email ID linked to the account',\n",
       "       'Availability of Faster Delivery Options -> Inability to get some items shipped to a location',\n",
       "       'Pickup and Shipping -> Changing the address for item pick-up',\n",
       "       'Order Delivery Issues -> Inability to track the order',\n",
       "       'Mobile Number and Email Verification -> Understanding OTP or verification code',\n",
       "       'Returns and Refunds -> Service center denial of repair request',\n",
       "       'Warranty Terms and Changes -> Impact of changes in warranty terms on the product',\n",
       "       'Pricing and Discounts -> Discounts through exchange offers',\n",
       "       'Login Methods -> Using an international number for sign-up',\n",
       "       'Cash on Delivery (CoD) Refunds -> Refund for Cash on Delivery payments and reimbursement of courier charges',\n",
       "       'Product Availability for Shipping -> Inability to order specific products (e.g., television, air-conditioner, refrigerator, washing machine, furniture, microwave, treadmill) at a location',\n",
       "       'Order Delivery Issues -> Out for delivery but not received yet',\n",
       "       'Return and Exchange -> Checking the status of a refund',\n",
       "       'Return Checks and Fees -> Applicable Return fee',\n",
       "       'Invoice and Payment -> Getting invoices for previous orders',\n",
       "       'Product Installation -> Impact on warranty if installed by the e-commerce company',\n",
       "       'Book Pricing Discrepancies -> Different prices for books with the same title',\n",
       "       'Pickup and Shipping -> Return request and replacement timeline',\n",
       "       'Order Delivery Issues -> Package shows as delivered but cannot be found',\n",
       "       \"Replacement and Return Process -> Returns after the specified time period in the seller's Returns Policy\",\n",
       "       'Return Checks and Fees -> Determination of the Return Fee',\n",
       "       'Order Confirmation and Status -> Checking order confirmation',\n",
       "       'Return and Exchange -> Eligibility Disputes',\n",
       "       'Pickup and Shipping -> Pickup process',\n",
       "       'Replacement and Return Process -> Products not eligible for returns',\n",
       "       'Order Delivery Issues -> Shipment not out for delivery after reaching the nearest hub',\n",
       "       \"Product Information and Tags -> Finding seller's returns policy\",\n",
       "       'Invoice and Payment -> Payment mode not available (e.g., Cash on Delivery)',\n",
       "       'Product Installation -> Installation responsibility (brand or e-commerce company)',\n",
       "       'Login Methods -> Logging in with a mobile number on the mobile app',\n",
       "       'Login Methods -> Using a corporate email ID for sign-up',\n",
       "       'Loyalty program -> Loyalty points clarifications',\n",
       "       'Availability of Faster Delivery Options -> Unavailability of faster delivery options at a specific location',\n",
       "       'Invoice and Payment -> Missing invoice',\n",
       "       'Installation and Accessories -> Inclusion of a wall mount for televisions',\n",
       "       'Loyalty program -> Reward points redemption',\n",
       "       'Accessing Warranty Details -> Finding warranty details when the details are not remembered',\n",
       "       'Account and Shopping -> Hidden charges',\n",
       "       'Warranty Claim Process -> Claiming warranty on replacement products',\n",
       "       'Return Checks and Fees -> Checks performed for returned items',\n",
       "       'Product Registration and Warranty -> Need to register the product with the brand for warranty benefits',\n",
       "       'Expedited Delivery -> Faster delivery options',\n",
       "       'Adding and Changing Account Information -> Changing the password for the account',\n",
       "       'Mobile Number and Email Verification -> Purpose of verifying mobile number or email address for account login',\n",
       "       'Standard Shipping Speeds and Delivery Charges -> Queries regarding delivery charges',\n",
       "       'Account Reactivation and Deactivation -> Deactivating the account',\n",
       "       'Returns and Refunds -> Damaged Goods/Poor Packaging',\n",
       "       \"Returns and Refunds -> Seller's returns policy\",\n",
       "       'Standard Shipping Speeds and Delivery Charges -> Understanding the standard shipping speeds',\n",
       "       'Return and Exchange -> Package open or tampered on delivery',\n",
       "       'Adding and Changing Account Information -> Adding a new delivery address to the account',\n",
       "       'Lost or Missing Warranty Card -> Mismatch in warranty terms between the website and the physical warranty card',\n",
       "       'Shipping Options for Returns -> Availability of faster delivery options (e.g., Same Day & In-a-Day) for return requests',\n",
       "       'Pricing and Discounts -> Instant cashback',\n",
       "       'Placing an Order -> Order placement process',\n",
       "       \"Order Confirmation and Status -> Different order statuses in 'My Orders'\",\n",
       "       'Order Delivery Issues -> Delivery to Wrong Address',\n",
       "       'Order Confirmation and Status -> Tracking/Shipping Updates',\n",
       "       'Order Delivery Issues -> Missed delivery',\n",
       "       'Pickup and Shipping -> Reimbursement of courier charges for return',\n",
       "       'Pickup and Shipping -> Refund not received in bank account',\n",
       "       'Return and Exchange -> Instances when returning an item is not possible',\n",
       "       'Lost or Missing Warranty Card -> Process of claiming warranty without a warranty card',\n",
       "       'Replacement and Return Process -> Returning freebies with a product',\n",
       "       'Replacement and Return Process -> Dealing with product issues after the return period',\n",
       "       'Order Confirmation and Status -> Confirming order status',\n",
       "       'Pricing and Discounts -> Discount/Promotion Application',\n",
       "       'Product Availability and Status -> International shipping',\n",
       "       'Login Issues and Error Messages -> Accessing the account when the phone is lost and the password is forgotten',\n",
       "       'Returns and Refunds -> Complaint about the courier executive',\n",
       "       'Cash on Delivery (CoD) Refunds -> Refund process for items paid for with Cash on Delivery ',\n",
       "       'Free Delivery Qualification -> Reasons for an order not qualifying for free delivery',\n",
       "       'Pricing and Discounts -> Different prices for the same product',\n",
       "       'Adding and Changing Account Information -> Using a new email address to log in to the account',\n",
       "       'Account and Shopping -> Clubbing orders from different sellers for combined delivery',\n",
       "       'Delivery Process -> Delivery method and process',\n",
       "       'Return and Exchange -> Refund timelines for cancellation or returns',\n",
       "       'Extended Warranty -> Process of signing up for an extended warranty for a product',\n",
       "       'Replacement and Return Process -> Return process and how it works',\n",
       "       'Order Delivery Issues -> Order approved but not shipped',\n",
       "       'Return and Exchange -> Refund Delays/Complications',\n",
       "       'Return and Exchange -> Return Shipping/Pickup Issues',\n",
       "       \"Warranty Terms and Changes -> Warranty mismatch between the website and the brand's website\",\n",
       "       'Warranty Claim Process -> Steps to claim warranty for a product',\n",
       "       \"Contacting Seller's Partnered Courier Service Providers -> How to get in touch with the courier service providers associated with sellers\",\n",
       "       'Product Registration and Warranty -> Applicability of warranty for products purchased online'],\n",
       "      dtype=object)"
      ]
     },
     "execution_count": 7,
     "metadata": {},
     "output_type": "execute_result"
    }
   ],
   "source": [
    "df[\"issue_category_sub_category\"].unique()"
   ]
  },
  {
   "cell_type": "code",
   "execution_count": 8,
   "id": "ce884a04",
   "metadata": {},
   "outputs": [
    {
     "data": {
      "text/plain": [
       "1000"
      ]
     },
     "execution_count": 8,
     "metadata": {},
     "output_type": "execute_result"
    }
   ],
   "source": [
    "len(df[\"conversation\"])"
   ]
  },
  {
   "cell_type": "code",
   "execution_count": 9,
   "id": "e6ac7f56",
   "metadata": {},
   "outputs": [
    {
     "data": {
      "text/plain": [
       "\"Agent: Thank you for calling BrownBox Customer Support. My name is Tom. How may I assist you today?\\n\\nCustomer: Hi Tom, I'm trying to log in to my account to purchase an Oven Toaster Grill (OTG), but I'm unable to proceed as it's asking for mobile number or email verification. Can you help me with that?\\n\\nAgent: Sure, I can assist you with that. May I know your registered mobile number or email address, please?\\n\\nCustomer: My registered mobile number is +1 123-456-7890.\\n\\nAgent: Thank you. Let me check that for you. I'm sorry to inform you that we don't have this number on our records. Can you please confirm if this is the correct number?\\n\\nCustomer: Oh, I'm sorry. I might have registered with a different number. Can you please check with my email address instead? It's johndoe@email.com.\\n\\nAgent: Sure, let me check that for you. (After a few moments) I see that we have your email address on our records. We'll be sending you a verification code shortly. Please check your email and let me know once you receive it.\\n\\nCustomer: Okay, I received the code. What do I do with it?\\n\\nAgent: Please enter the verification code in the field provided and click on 'Verify'. Once your email address is verified, you'll be able to proceed with your purchase.\\n\\nCustomer: Okay, I entered the code, and it's verified now. Thank you for your help.\\n\\nAgent: You're welcome. Is there anything else I can assist you with?\\n\\nCustomer: No, that's all. Thank you.\\n\\nAgent: You're welcome. Have a great day!\""
      ]
     },
     "execution_count": 9,
     "metadata": {},
     "output_type": "execute_result"
    }
   ],
   "source": [
    "df[\"conversation\"].iloc[0]"
   ]
  },
  {
   "cell_type": "markdown",
   "id": "e4c7b5f5",
   "metadata": {},
   "source": [
    "# Step-1: Data Preprocessing "
   ]
  },
  {
   "cell_type": "markdown",
   "id": "f625a333",
   "metadata": {},
   "source": [
    "## 1.1 Preprocess the Conversation Text"
   ]
  },
  {
   "cell_type": "code",
   "execution_count": 12,
   "id": "c7fded22",
   "metadata": {},
   "outputs": [],
   "source": [
    "from tensorflow.keras.preprocessing.text import Tokenizer\n",
    "from tensorflow.keras.preprocessing.sequence import pad_sequences"
   ]
  },
  {
   "cell_type": "code",
   "execution_count": 13,
   "id": "e5b647c9",
   "metadata": {},
   "outputs": [],
   "source": [
    "# Initialize the Tokenizer\n",
    "tokenizer = Tokenizer(num_words=5000)\n",
    "tokenizer.fit_on_texts(df['conversation'])\n",
    "\n",
    "# Convert conversations to sequences of integers\n",
    "conversation_sequences = tokenizer.texts_to_sequences(df['conversation'])\n",
    "\n",
    "# Pad the sequences to make them uniform in length (maxlen=50 is an example)\n",
    "max_sequence_length = 50\n",
    "X_conversation = pad_sequences(conversation_sequences, maxlen=max_sequence_length, padding='pre')"
   ]
  },
  {
   "cell_type": "markdown",
   "id": "f8c602c7",
   "metadata": {},
   "source": [
    "## 1.2 Preprocess the Metadata"
   ]
  },
  {
   "cell_type": "code",
   "execution_count": 15,
   "id": "3f093fae",
   "metadata": {},
   "outputs": [],
   "source": [
    "from sklearn.preprocessing import LabelEncoder\n",
    "import numpy as np\n",
    "# For each categorical metadata column, apply LabelEncoder\n",
    "label_encoders = {}\n",
    "metadata_columns  = df.select_dtypes(include=[\"object\", \"category\"]).columns\n",
    "\n",
    "#print(\"Categorical columns:\", categorical_columns)\n",
    "\n",
    "# Encode metadata columns\n",
    "X_metadata = []\n",
    "for column in metadata_columns:\n",
    "    le = LabelEncoder()\n",
    "    label_encoders[column] = le\n",
    "    encoded_column = le.fit_transform(df[column])\n",
    "    X_metadata.append(encoded_column)\n",
    "\n",
    "# Stack metadata columns into a single array\n",
    "\n",
    "X_metadata = np.stack(X_metadata, axis=1)"
   ]
  },
  {
   "cell_type": "markdown",
   "id": "2b028eaf",
   "metadata": {},
   "source": [
    " # Step-2: Combine Conversation and Metadata\n",
    " You need to combine the conversation and metadata features into one unified input"
   ]
  },
  {
   "cell_type": "code",
   "execution_count": 16,
   "id": "aab9eb3c",
   "metadata": {},
   "outputs": [],
   "source": [
    "# Concatenate conversation input and metadata input\n",
    "X_combined = np.concatenate([X_conversation, X_metadata], axis=1)"
   ]
  },
  {
   "cell_type": "markdown",
   "id": "a64d4642",
   "metadata": {},
   "source": [
    "# Step-3: Prepare the Target for Text Generation (Next Word Prediction)\n",
    "To train a text generator, you need to define a target sequence (next word prediction). For each conversation, the target will be the next word after the current sequence."
   ]
  },
  {
   "cell_type": "code",
   "execution_count": 17,
   "id": "fd36cf8a",
   "metadata": {},
   "outputs": [],
   "source": [
    "# Create the next word labels (target) for training\n",
    "y = []\n",
    "for seq in conversation_sequences:\n",
    "    for i in range(1, len(seq)):\n",
    "        y.append(seq[i])\n",
    "\n",
    "y = np.array(y)"
   ]
  },
  {
   "cell_type": "markdown",
   "id": "46d4f861",
   "metadata": {},
   "source": [
    "# Step-4: Build the LSTM Model"
   ]
  },
  {
   "cell_type": "code",
   "execution_count": 27,
   "id": "e1de1968",
   "metadata": {},
   "outputs": [
    {
     "name": "stdout",
     "output_type": "stream",
     "text": [
      "Model: \"model_3\"\n",
      "__________________________________________________________________________________________________\n",
      " Layer (type)                Output Shape                 Param #   Connected to                  \n",
      "==================================================================================================\n",
      " input_11 (InputLayer)       [(None, 50)]                 0         []                            \n",
      "                                                                                                  \n",
      " embedding_5 (Embedding)     (None, 50, 200)              1000000   ['input_11[0][0]']            \n",
      "                                                                                                  \n",
      " bidirectional (Bidirection  (None, 512)                  935936    ['embedding_5[0][0]']         \n",
      " al)                                                                                              \n",
      "                                                                                                  \n",
      " input_12 (InputLayer)       [(None, 11)]                 0         []                            \n",
      "                                                                                                  \n",
      " concatenate_3 (Concatenate  (None, 523)                  0         ['bidirectional[0][0]',       \n",
      " )                                                                   'input_12[0][0]']            \n",
      "                                                                                                  \n",
      " dense_3 (Dense)             (None, 5000)                 2620000   ['concatenate_3[0][0]']       \n",
      "                                                                                                  \n",
      "==================================================================================================\n",
      "Total params: 4555936 (17.38 MB)\n",
      "Trainable params: 4555936 (17.38 MB)\n",
      "Non-trainable params: 0 (0.00 Byte)\n",
      "__________________________________________________________________________________________________\n"
     ]
    }
   ],
   "source": [
    "from tensorflow.keras.models import Model\n",
    "from tensorflow.keras.layers import Input, Embedding, LSTM, Dense, Concatenate\n",
    "from tensorflow.keras.optimizers import Adam\n",
    "from tensorflow.keras.layers import Bidirectional\n",
    "\n",
    "# Decrease learning rate to fine-tune\n",
    "optimizer = Adam(learning_rate=0.0001)\n",
    "\n",
    "# Define the inputs\n",
    "conversation_input = Input(shape=(max_sequence_length,))\n",
    "metadata_input = Input(shape=(X_metadata.shape[1],))\n",
    "\n",
    "# Define the embedding layer for conversation text\n",
    "embedding_layer = Embedding(input_dim=5000, output_dim=200)(conversation_input)\n",
    "\n",
    "# LSTM layer for processing conversation text\n",
    "lstm_layer = Bidirectional(LSTM(256, return_sequences=False))(embedding_layer)\n",
    "\n",
    "# Concatenate the LSTM output with the metadata input\n",
    "combined = Concatenate()([lstm_layer, metadata_input])\n",
    "\n",
    "# Define the output layer (dense layer for next word prediction)\n",
    "output = Dense(5000, activation='softmax')(combined)\n",
    "\n",
    "# Build and compile the model\n",
    "model = Model(inputs=[conversation_input, metadata_input], outputs=output)\n",
    "model.compile(loss='sparse_categorical_crossentropy', optimizer=optimizer, metrics=['accuracy'])\n",
    "\n",
    "# Summary of the model\n",
    "model.summary()"
   ]
  },
  {
   "cell_type": "markdown",
   "id": "43acdd57",
   "metadata": {},
   "source": [
    "# Step-5: Train the Model"
   ]
  },
  {
   "cell_type": "code",
   "execution_count": 28,
   "id": "c8dd8931",
   "metadata": {},
   "outputs": [
    {
     "name": "stdout",
     "output_type": "stream",
     "text": [
      "Epoch 1/30\n",
      "25/25 [==============================] - 21s 634ms/step - loss: 23.0732 - accuracy: 0.0000e+00 - val_loss: 21.1762 - val_accuracy: 0.0050\n",
      "Epoch 2/30\n",
      "25/25 [==============================] - 11s 432ms/step - loss: 20.8020 - accuracy: 0.0037 - val_loss: 19.0307 - val_accuracy: 0.0000e+00\n",
      "Epoch 3/30\n",
      "25/25 [==============================] - 12s 494ms/step - loss: 17.1527 - accuracy: 0.0088 - val_loss: 16.0186 - val_accuracy: 0.0550\n",
      "Epoch 4/30\n",
      "25/25 [==============================] - 13s 518ms/step - loss: 14.2409 - accuracy: 0.0325 - val_loss: 14.5448 - val_accuracy: 0.0350\n",
      "Epoch 5/30\n",
      "25/25 [==============================] - 13s 509ms/step - loss: 12.3256 - accuracy: 0.0225 - val_loss: 13.3557 - val_accuracy: 0.0450\n",
      "Epoch 6/30\n",
      "25/25 [==============================] - 15s 585ms/step - loss: 10.9879 - accuracy: 0.0250 - val_loss: 12.4894 - val_accuracy: 0.0400\n",
      "Epoch 7/30\n",
      "25/25 [==============================] - 14s 563ms/step - loss: 10.0384 - accuracy: 0.0300 - val_loss: 11.8673 - val_accuracy: 0.0500\n",
      "Epoch 8/30\n",
      "25/25 [==============================] - 13s 532ms/step - loss: 9.3030 - accuracy: 0.0312 - val_loss: 11.4070 - val_accuracy: 0.0400\n",
      "Epoch 9/30\n",
      "25/25 [==============================] - 13s 502ms/step - loss: 8.7403 - accuracy: 0.0350 - val_loss: 11.0559 - val_accuracy: 0.0450\n",
      "Epoch 10/30\n",
      "25/25 [==============================] - 13s 516ms/step - loss: 8.2793 - accuracy: 0.0388 - val_loss: 10.7722 - val_accuracy: 0.0250\n",
      "Epoch 11/30\n",
      "25/25 [==============================] - 13s 508ms/step - loss: 7.9152 - accuracy: 0.0375 - val_loss: 10.5448 - val_accuracy: 0.0400\n",
      "Epoch 12/30\n",
      "25/25 [==============================] - 13s 508ms/step - loss: 7.6151 - accuracy: 0.0338 - val_loss: 10.3765 - val_accuracy: 0.0400\n",
      "Epoch 13/30\n",
      "25/25 [==============================] - 13s 527ms/step - loss: 7.3496 - accuracy: 0.0350 - val_loss: 10.2307 - val_accuracy: 0.0350\n",
      "Epoch 14/30\n",
      "25/25 [==============================] - 13s 503ms/step - loss: 7.1309 - accuracy: 0.0375 - val_loss: 10.0886 - val_accuracy: 0.0350\n",
      "Epoch 15/30\n",
      "25/25 [==============================] - 13s 516ms/step - loss: 6.9391 - accuracy: 0.0350 - val_loss: 9.9940 - val_accuracy: 0.0450\n",
      "Epoch 16/30\n",
      "25/25 [==============================] - 13s 519ms/step - loss: 6.7513 - accuracy: 0.0362 - val_loss: 9.8961 - val_accuracy: 0.0300\n",
      "Epoch 17/30\n",
      "25/25 [==============================] - 13s 529ms/step - loss: 6.6019 - accuracy: 0.0350 - val_loss: 9.8285 - val_accuracy: 0.0450\n",
      "Epoch 18/30\n",
      "25/25 [==============================] - 13s 520ms/step - loss: 6.4582 - accuracy: 0.0375 - val_loss: 9.7495 - val_accuracy: 0.0350\n",
      "Epoch 19/30\n",
      "25/25 [==============================] - 13s 518ms/step - loss: 6.3336 - accuracy: 0.0375 - val_loss: 9.6870 - val_accuracy: 0.0400\n",
      "Epoch 20/30\n",
      "25/25 [==============================] - 13s 513ms/step - loss: 6.2116 - accuracy: 0.0362 - val_loss: 9.6298 - val_accuracy: 0.0400\n",
      "Epoch 21/30\n",
      "25/25 [==============================] - 14s 545ms/step - loss: 6.0979 - accuracy: 0.0362 - val_loss: 9.5790 - val_accuracy: 0.0400\n",
      "Epoch 22/30\n",
      "25/25 [==============================] - 14s 561ms/step - loss: 6.0001 - accuracy: 0.0425 - val_loss: 9.5275 - val_accuracy: 0.0300\n",
      "Epoch 23/30\n",
      "25/25 [==============================] - 13s 540ms/step - loss: 5.9027 - accuracy: 0.0413 - val_loss: 9.4971 - val_accuracy: 0.0350\n",
      "Epoch 24/30\n",
      "25/25 [==============================] - 13s 525ms/step - loss: 5.8163 - accuracy: 0.0413 - val_loss: 9.4562 - val_accuracy: 0.0300\n",
      "Epoch 25/30\n",
      "25/25 [==============================] - 14s 555ms/step - loss: 5.7324 - accuracy: 0.0463 - val_loss: 9.4113 - val_accuracy: 0.0350\n",
      "Epoch 26/30\n",
      "25/25 [==============================] - 13s 508ms/step - loss: 5.6548 - accuracy: 0.0425 - val_loss: 9.3936 - val_accuracy: 0.0400\n",
      "Epoch 27/30\n",
      "25/25 [==============================] - 13s 507ms/step - loss: 5.5859 - accuracy: 0.0425 - val_loss: 9.3545 - val_accuracy: 0.0300\n",
      "Epoch 28/30\n",
      "25/25 [==============================] - 13s 504ms/step - loss: 5.5192 - accuracy: 0.0425 - val_loss: 9.3350 - val_accuracy: 0.0450\n",
      "Epoch 29/30\n",
      "25/25 [==============================] - 14s 573ms/step - loss: 5.4508 - accuracy: 0.0413 - val_loss: 9.3207 - val_accuracy: 0.0400\n",
      "Epoch 30/30\n",
      "25/25 [==============================] - 14s 550ms/step - loss: 5.3894 - accuracy: 0.0525 - val_loss: 9.2912 - val_accuracy: 0.0400\n"
     ]
    },
    {
     "data": {
      "text/plain": [
       "<keras.src.callbacks.History at 0x1488eaa43a0>"
      ]
     },
     "execution_count": 28,
     "metadata": {},
     "output_type": "execute_result"
    }
   ],
   "source": [
    "from tensorflow.keras.callbacks import EarlyStopping\n",
    "\n",
    "early_stopping = EarlyStopping(monitor='val_loss', patience=3, restore_best_weights=True)\n",
    "\n",
    "# Train with early stopping\n",
    "model.fit([X_conversation, X_metadata], y, epochs=30, batch_size=32, validation_split=0.2, callbacks=[early_stopping])\n"
   ]
  },
  {
   "cell_type": "code",
   "execution_count": null,
   "id": "a416615a",
   "metadata": {},
   "outputs": [],
   "source": []
  }
 ],
 "metadata": {
  "kernelspec": {
   "display_name": "Python 3 (ipykernel)",
   "language": "python",
   "name": "python3"
  },
  "language_info": {
   "codemirror_mode": {
    "name": "ipython",
    "version": 3
   },
   "file_extension": ".py",
   "mimetype": "text/x-python",
   "name": "python",
   "nbconvert_exporter": "python",
   "pygments_lexer": "ipython3",
   "version": "3.9.13"
  }
 },
 "nbformat": 4,
 "nbformat_minor": 5
}
